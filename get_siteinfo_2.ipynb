{
 "cells": [
  {
   "cell_type": "code",
   "execution_count": 1,
   "metadata": {},
   "outputs": [],
   "source": [
    "import sys\n",
    "import csv\n",
    "import time\n",
    "import re\n",
    "from urllib.request import urlopen\n",
    "import json\n",
    "from pandas.io.json import json_normalize\n",
    "import pandas as pd, numpy as np\n",
    "import pickle \n",
    "import pprint\n",
    "import requests\n",
    "from datetime import date, datetime\n",
    "from random import *\n",
    "from selenium import webdriver\n",
    "from selenium.webdriver.chrome.options import Options\n",
    "from selenium.webdriver.common.action_chains import ActionChains\n",
    "from selenium.webdriver.common.keys import Keys \n",
    "from selenium.common.exceptions import TimeoutException\n",
    "from selenium.webdriver.support.ui import WebDriverWait\n",
    "from selenium.webdriver.support import expected_conditions as EC\n",
    "from selenium.webdriver.common.by import By\n",
    "from bs4 import BeautifulSoup as bs\n",
    "import os\n",
    "import datetime\n",
    "import shutil\n",
    "import glob"
   ]
  },
  {
   "cell_type": "code",
   "execution_count": 2,
   "metadata": {},
   "outputs": [],
   "source": [
    "pp = pprint.PrettyPrinter(indent=4)\n",
    "\n",
    "options = webdriver.ChromeOptions()\n",
    "options.add_argument('--headless')\n",
    "options.add_argument('window-size=1000x500')\n",
    "options.add_argument(\"start-maximized\")\n",
    "options.add_argument(\"disable-infobars\")\n",
    "options.add_argument(\"--disable-extensions\")\n",
    "options.add_argument(\"disable-gpu\")"
   ]
  },
  {
   "cell_type": "markdown",
   "metadata": {},
   "source": [
    "## Get xy coordinate directly from embeded navermap"
   ]
  },
  {
   "cell_type": "code",
   "execution_count": 208,
   "metadata": {},
   "outputs": [],
   "source": [
    "chrome_path = '/usr/local/bin/chromedriver'\n",
    "driver = webdriver.Chrome(chrome_path, options=options)\n",
    "url = 'https://www.gocamping.or.kr/bsite/camp/info/list.do?listTy=MAP&pageUnit=1001&searchKrwd=&listOrdrTrget=last_updusr_pnttm&pageIndex=1'\n",
    "# url = 'https://www.gocamping.or.kr/bsite/camp/info/list.do?pageUnit=2500&searchKrwd=&listOrdrTrget=last_updusr_pnttm&pageIndex=1'\n",
    "driver.get(url) \n",
    "\n",
    "time.sleep(10)\n",
    "\n",
    "source = driver.page_source \n",
    "data = bs(source, 'html.parser')"
   ]
  },
  {
   "cell_type": "code",
   "execution_count": 305,
   "metadata": {},
   "outputs": [],
   "source": [
    "cont = data.findAll(\"div\", {\"class\":\"map_list\"})[0]"
   ]
  },
  {
   "cell_type": "code",
   "execution_count": 483,
   "metadata": {},
   "outputs": [],
   "source": [
    "ul = cont.ul.select(\"li[onclick]\")"
   ]
  },
  {
   "cell_type": "code",
   "execution_count": 492,
   "metadata": {},
   "outputs": [
    {
     "data": {
      "text/plain": [
       "1001"
      ]
     },
     "execution_count": 492,
     "metadata": {},
     "output_type": "execute_result"
    }
   ],
   "source": [
    "len(ul)"
   ]
  },
  {
   "cell_type": "code",
   "execution_count": 523,
   "metadata": {},
   "outputs": [],
   "source": [
    "cols = ['xy','name','addr', 'call_num']\n",
    "df = pd.DataFrame(columns=cols)\n",
    "\n",
    "for i in range(len(ul)):\n",
    "    camp = ul[i]\n",
    "    xy = camp['onclick']\n",
    "    name = camp.h2.text.split(']')[1].strip()\n",
    "    addr = camp.find(\"li\", {\"class\":\"addr\"}).get_text()\n",
    "    call_num = camp.find(\"li\", {\"class\":\"call_num\"}).get_text() if camp.find(\"li\", {\"class\":\"call_num\"}) else \"\"\n",
    "    val_list = [xy, name, addr, call_num]\n",
    "    result = dict(zip(cols, val_list))\n",
    "    df = df.append(result, ignore_index=True)"
   ]
  },
  {
   "cell_type": "code",
   "execution_count": 524,
   "metadata": {},
   "outputs": [
    {
     "data": {
      "text/html": [
       "<div>\n",
       "<style>\n",
       "    .dataframe thead tr:only-child th {\n",
       "        text-align: right;\n",
       "    }\n",
       "\n",
       "    .dataframe thead th {\n",
       "        text-align: left;\n",
       "    }\n",
       "\n",
       "    .dataframe tbody tr th {\n",
       "        vertical-align: top;\n",
       "    }\n",
       "</style>\n",
       "<table border=\"1\" class=\"dataframe\">\n",
       "  <thead>\n",
       "    <tr style=\"text-align: right;\">\n",
       "      <th></th>\n",
       "      <th>xy</th>\n",
       "      <th>name</th>\n",
       "      <th>addr</th>\n",
       "      <th>call_num</th>\n",
       "    </tr>\n",
       "  </thead>\n",
       "  <tbody>\n",
       "    <tr>\n",
       "      <th>0</th>\n",
       "      <td>markerClick(marker_0, infowindow_0, '37.256823...</td>\n",
       "      <td>트리캠핑장</td>\n",
       "      <td>인천광역시 옹진군 선재로306번길 27-55</td>\n",
       "      <td></td>\n",
       "    </tr>\n",
       "    <tr>\n",
       "      <th>1</th>\n",
       "      <td>markerClick(marker_1, infowindow_1, '35.642447...</td>\n",
       "      <td>마노아워터캠핑장</td>\n",
       "      <td>경남 합천군 봉산면 압곡3길 9</td>\n",
       "      <td>010-8667-6051</td>\n",
       "    </tr>\n",
       "    <tr>\n",
       "      <th>2</th>\n",
       "      <td>markerClick(marker_2, infowindow_2, '36.045565...</td>\n",
       "      <td>서천 금빛노을 서울캠핑장</td>\n",
       "      <td>충청남도 서천군 장선리 128-3</td>\n",
       "      <td></td>\n",
       "    </tr>\n",
       "    <tr>\n",
       "      <th>3</th>\n",
       "      <td>markerClick(marker_3, infowindow_3, '37.727152...</td>\n",
       "      <td>수동시온캠프</td>\n",
       "      <td>경기 남양주시 수동면 지둔로445번길 82</td>\n",
       "      <td>010-5230-6729</td>\n",
       "    </tr>\n",
       "    <tr>\n",
       "      <th>4</th>\n",
       "      <td>markerClick(marker_4, infowindow_4, '35.530722...</td>\n",
       "      <td>아트앤오토캠핑장</td>\n",
       "      <td>울산광역시 울주군 상북면 이천리</td>\n",
       "      <td>010-3710-2060</td>\n",
       "    </tr>\n",
       "    <tr>\n",
       "      <th>5</th>\n",
       "      <td>markerClick(marker_5, infowindow_5, '37.355251...</td>\n",
       "      <td>영월지구별캠프</td>\n",
       "      <td>강원 영월군 무릉도원면 무릉법흥로 1104</td>\n",
       "      <td>010-7923-4498</td>\n",
       "    </tr>\n",
       "    <tr>\n",
       "      <th>6</th>\n",
       "      <td>markerClick(marker_6, infowindow_6, '37.514232...</td>\n",
       "      <td>힐링스토리</td>\n",
       "      <td>강원 횡성군 서원면 금대1길 24-68</td>\n",
       "      <td>010-5227-3579</td>\n",
       "    </tr>\n",
       "    <tr>\n",
       "      <th>7</th>\n",
       "      <td>markerClick(marker_7, infowindow_7, '35.493419...</td>\n",
       "      <td>밀양댐오토캠핑장</td>\n",
       "      <td>경상남도 밀양시 단장면 고례리</td>\n",
       "      <td>010-5199-1426</td>\n",
       "    </tr>\n",
       "    <tr>\n",
       "      <th>8</th>\n",
       "      <td>markerClick(marker_8, infowindow_8, '34.917515...</td>\n",
       "      <td>별볼일 있는 야영장</td>\n",
       "      <td>전라남도 보성군 문덕면 양동리 942</td>\n",
       "      <td></td>\n",
       "    </tr>\n",
       "    <tr>\n",
       "      <th>9</th>\n",
       "      <td>markerClick(marker_9, infowindow_9, '37.125710...</td>\n",
       "      <td>별마로빌리지캠핑장</td>\n",
       "      <td>강원 영월군 김삿갓면 영월동로 1954-40</td>\n",
       "      <td>010-3008-6408</td>\n",
       "    </tr>\n",
       "  </tbody>\n",
       "</table>\n",
       "</div>"
      ],
      "text/plain": [
       "                                                  xy           name  \\\n",
       "0  markerClick(marker_0, infowindow_0, '37.256823...          트리캠핑장   \n",
       "1  markerClick(marker_1, infowindow_1, '35.642447...       마노아워터캠핑장   \n",
       "2  markerClick(marker_2, infowindow_2, '36.045565...  서천 금빛노을 서울캠핑장   \n",
       "3  markerClick(marker_3, infowindow_3, '37.727152...         수동시온캠프   \n",
       "4  markerClick(marker_4, infowindow_4, '35.530722...       아트앤오토캠핑장   \n",
       "5  markerClick(marker_5, infowindow_5, '37.355251...        영월지구별캠프   \n",
       "6  markerClick(marker_6, infowindow_6, '37.514232...          힐링스토리   \n",
       "7  markerClick(marker_7, infowindow_7, '35.493419...       밀양댐오토캠핑장   \n",
       "8  markerClick(marker_8, infowindow_8, '34.917515...     별볼일 있는 야영장   \n",
       "9  markerClick(marker_9, infowindow_9, '37.125710...      별마로빌리지캠핑장   \n",
       "\n",
       "                        addr       call_num  \n",
       "0  인천광역시 옹진군 선재로306번길 27-55                  \n",
       "1          경남 합천군 봉산면 압곡3길 9  010-8667-6051  \n",
       "2         충청남도 서천군 장선리 128-3                 \n",
       "3    경기 남양주시 수동면 지둔로445번길 82  010-5230-6729  \n",
       "4         울산광역시 울주군 상북면 이천리   010-3710-2060  \n",
       "5    강원 영월군 무릉도원면 무릉법흥로 1104  010-7923-4498  \n",
       "6      강원 횡성군 서원면 금대1길 24-68  010-5227-3579  \n",
       "7          경상남도 밀양시 단장면 고례리   010-5199-1426  \n",
       "8       전라남도 보성군 문덕면 양동리 942                 \n",
       "9   강원 영월군 김삿갓면 영월동로 1954-40  010-3008-6408  "
      ]
     },
     "execution_count": 524,
     "metadata": {},
     "output_type": "execute_result"
    }
   ],
   "source": [
    "df.head(10)"
   ]
  },
  {
   "cell_type": "markdown",
   "metadata": {},
   "source": [
    "## geocoding example"
   ]
  },
  {
   "cell_type": "code",
   "execution_count": null,
   "metadata": {},
   "outputs": [],
   "source": [
    "cols = list(df.columns) + ['level1','level2','x','y']\n",
    "df_fn = pd.DataFrame(columns=cols)\n",
    "apikey = '6829FE20-AE45-312E-9D0A-418C7E77BF47'\n",
    "\n",
    "for i in range(len(df)):\n",
    "    dict0 = dict(df.iloc[i])\n",
    "#     print(dict0)\n",
    "\n",
    "    address = df['addr'][i]\n",
    "    URL = 'http://api.vworld.kr/req/address?service=address&request=getcoord&version=2.0&crs=epsg:4326&address={addr}&refine=true&simple=false&format=json&type=road&key={key}'.format(key=apikey, addr=address)\n",
    "    r = requests.get(URL)\n",
    "    data = r.json()\n",
    "    try: \n",
    "        dict1 = data['response']['refined']['structure']\n",
    "        dict1 = {k: dict1[k] for k in dict1.keys() & {'level1','level2'}}\n",
    "        dict2 = data['response']['result']['point']\n",
    "        dict0.update(dict1)\n",
    "        dict0.update(dict2)\n",
    "    except KeyError:\n",
    "        dict1 = {'level1':None, 'level2':None, 'x':None, 'y':None}\n",
    "        dict0.update(dict1)\n",
    "    \n",
    "    df_tmp = pd.DataFrame(json_normalize(dict0), columns=dict0.keys())\n",
    "    df_fn = df_fn.append(df_tmp)\n",
    "    print(df_fn.tail(5))"
   ]
  },
  {
   "cell_type": "code",
   "execution_count": null,
   "metadata": {},
   "outputs": [],
   "source": []
  }
 ],
 "metadata": {
  "kernelspec": {
   "display_name": "Python 3",
   "language": "python",
   "name": "python3"
  },
  "language_info": {
   "codemirror_mode": {
    "name": "ipython",
    "version": 3
   },
   "file_extension": ".py",
   "mimetype": "text/x-python",
   "name": "python",
   "nbconvert_exporter": "python",
   "pygments_lexer": "ipython3",
   "version": "3.6.2"
  }
 },
 "nbformat": 4,
 "nbformat_minor": 2
}
