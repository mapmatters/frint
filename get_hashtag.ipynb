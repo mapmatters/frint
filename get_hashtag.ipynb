{
 "cells": [
  {
   "cell_type": "code",
   "execution_count": null,
   "metadata": {
    "collapsed": true
   },
   "outputs": [],
   "source": [
    "import sys\n",
    "import csv\n",
    "import time\n",
    "import re\n",
    "from urllib.request import urlopen\n",
    "import json\n",
    "from pandas.io.json import json_normalize\n",
    "import pandas as pd, numpy as np\n",
    "import pickle \n",
    "import pprint\n",
    "import requests\n",
    "from datetime import date, datetime\n",
    "from random import *\n",
    "from selenium import webdriver\n",
    "from selenium.webdriver.chrome.options import Options\n",
    "from selenium.webdriver.common.action_chains import ActionChains\n",
    "from selenium.webdriver.common.keys import Keys \n",
    "from selenium.common.exceptions import TimeoutException\n",
    "from selenium.webdriver.support.ui import WebDriverWait\n",
    "from selenium.webdriver.support import expected_conditions as EC\n",
    "from selenium.webdriver.common.by import By\n",
    "from bs4 import BeautifulSoup as bs\n",
    "import os\n",
    "import datetime\n",
    "import shutil\n",
    "import glob"
   ]
  },
  {
   "cell_type": "code",
   "execution_count": null,
   "metadata": {
    "collapsed": true
   },
   "outputs": [],
   "source": [
    "pp = pprint.PrettyPrinter(indent=4)\n",
    "\n",
    "options = webdriver.ChromeOptions()\n",
    "options.add_argument('--headless')\n",
    "options.add_argument('window-size=1000x500')\n",
    "options.add_argument(\"start-maximized\")\n",
    "options.add_argument(\"disable-infobars\")\n",
    "# options.add_argument(\"--disable-extensions\")\n",
    "# options.add_argument(\"disable-gpu\")\n",
    "\n"
   ]
  },
  {
   "cell_type": "code",
   "execution_count": null,
   "metadata": {},
   "outputs": [],
   "source": [
    "# 데이터 불러오기\n",
    "print(os.getcwd())\n",
    "camping = pd.read_csv('../file/camping.csv')"
   ]
  },
  {
   "cell_type": "code",
   "execution_count": null,
   "metadata": {},
   "outputs": [],
   "source": [
    "camping.head(3)"
   ]
  },
  {
   "cell_type": "code",
   "execution_count": 180,
   "metadata": {
    "collapsed": true
   },
   "outputs": [],
   "source": [
    "def post_count(num, df, name, tag_nm):\n",
    "    rows_list = []\n",
    "    tag_list = df[tag_nm].values.tolist()\n",
    "    \n",
    "    today = datetime.datetime.today() \n",
    "    today_ymd = today.strftime('%Y%m%d')\n",
    "\n",
    "    path = '../file/' \n",
    "    new_path = ''.join([path, today_ymd])\n",
    "    file_nm = '_'.join(['camping', today_ymd])\n",
    "    \n",
    "    output_nm = ''.join([path, \"_\", file_nm, \".csv\"])\n",
    "    mergeoutput_nm = ''.join([new_path, \"_\",file_nm, \".csv\"])\n",
    "    \n",
    "    cols = ['no','camp_nm','hashtag','num_posts','date_time']\n",
    "    df_out = pd.DataFrame(columns=cols)\n",
    "    \n",
    "    try:\n",
    "        os.mkdir(new_path)\n",
    "    except OSError:\n",
    "        print (\"Creation of the directory %s failed\" % path)\n",
    "    else:\n",
    "        print (\"Successfully created the directory %s \" % path)\n",
    "    \n",
    "    chrome_path = '/usr/local/bin/chromedriver'\n",
    "    driver = webdriver.Chrome(chrome_path, options=options)\n",
    "\n",
    "    for i in range(num,len(tag_list)):\n",
    "        driver.get('https://www.instagram.com/explore/tags/'+tag_list[i]+'/?hl=en') \n",
    "        time.sleep(3) \n",
    "        source = driver.page_source \n",
    "        data = bs(source, 'html.parser') \n",
    "        tag = data.find(\"span\",{\"class\": \"g47SY \"}) \n",
    "        try: \n",
    "            val = tag.text \n",
    "            val = int(val.replace(',' , '')) \n",
    "        except AttributeError: \n",
    "            val = 0\n",
    "\n",
    "        info = [i, df[name][i], tag_list[i], val, today]\n",
    "        dict1 = dict(zip(cols,info))\n",
    "#         dict1 = {\"no\":i,\n",
    "#                  \"camp_nm\":df[name][i],\n",
    "#                  \"hashtag\":tag_list[i],\n",
    "#                  \"num_of_post\":val,\n",
    "#                  \"date_time\":today}\n",
    "        df_out.append(dict1, ignore_index=True)\n",
    "        print(dict1)\n",
    "        time.sleep(1)\n",
    "        \n",
    "        if i%50 == 49:\n",
    "            driver.quit()\n",
    "            df_out.to_csv(path+file_nm+f\"{i:0>5}\"+'.csv', index=False, header=False)\n",
    "            \n",
    "            df_out = pd.DataFrame(columns=cols)\n",
    "            \n",
    "            time.sleep(7)\n",
    "            \n",
    "            driver = webdriver.Chrome(chrome_path, options=options)\n",
    "\n",
    "    df_out.to_csv(path+file_nm+f\"{i:0>5}\"+'.csv')\n",
    "    driver.quit()\n",
    "    \n",
    "    with open(output_nm, 'wb') as outfile:\n",
    "        for filename in glob.glob(path+file_nm+'*.csv'):\n",
    "    #         print(filename)\n",
    "            if filename == output_nm:\n",
    "                # don't want to copy the output into the output\n",
    "                continue\n",
    "\n",
    "            with open(filename, 'rb') as readfile:\n",
    "                readfile.readline()\n",
    "                shutil.copyfileobj(readfile, outfile)\n",
    "\n",
    "    outfile = pd.read_csv(output_nm, names=cols, \n",
    "                          header=None, index_col='id')\n",
    "    outfile.to_csv(mergeoutput_nm, index=False)"
   ]
  },
  {
   "cell_type": "code",
   "execution_count": null,
   "metadata": {},
   "outputs": [
    {
     "name": "stdout",
     "output_type": "stream",
     "text": [
      "Creation of the directory ../file/ failed\n",
      "{'no': 0, 'camp_nm': '한탄강소나무캠핑', 'hashtag': '한탄강소나무캠핑', 'num_posts': 9, 'date_time': datetime.datetime(2020, 6, 6, 11, 24, 38, 942519)}\n",
      "{'no': 1, 'camp_nm': '한탄강관광지오토캠핑장', 'hashtag': '한탄강관광지오토캠핑장', 'num_posts': 2667, 'date_time': datetime.datetime(2020, 6, 6, 11, 24, 38, 942519)}\n"
     ]
    }
   ],
   "source": [
    "post_count(0, camping, 'name','name_modify')"
   ]
  },
  {
   "cell_type": "code",
   "execution_count": 176,
   "metadata": {},
   "outputs": [
    {
     "data": {
      "text/html": [
       "<div>\n",
       "<style>\n",
       "    .dataframe thead tr:only-child th {\n",
       "        text-align: right;\n",
       "    }\n",
       "\n",
       "    .dataframe thead th {\n",
       "        text-align: left;\n",
       "    }\n",
       "\n",
       "    .dataframe tbody tr th {\n",
       "        vertical-align: top;\n",
       "    }\n",
       "</style>\n",
       "<table border=\"1\" class=\"dataframe\">\n",
       "  <thead>\n",
       "    <tr style=\"text-align: right;\">\n",
       "      <th></th>\n",
       "      <th>no</th>\n",
       "      <th>camp_nm</th>\n",
       "      <th>hashtag</th>\n",
       "      <th>num_posts</th>\n",
       "      <th>date_time</th>\n",
       "    </tr>\n",
       "  </thead>\n",
       "  <tbody>\n",
       "  </tbody>\n",
       "</table>\n",
       "</div>"
      ],
      "text/plain": [
       "Empty DataFrame\n",
       "Columns: [no, camp_nm, hashtag, num_posts, date_time]\n",
       "Index: []"
      ]
     },
     "execution_count": 176,
     "metadata": {},
     "output_type": "execute_result"
    }
   ],
   "source": [
    "cols = ['no','camp_nm','hashtag','num_posts','date_time']\n",
    "pd.DataFrame(columns=cols)"
   ]
  }
 ],
 "metadata": {
  "kernelspec": {
   "display_name": "Python 3",
   "language": "python",
   "name": "python3"
  },
  "language_info": {
   "codemirror_mode": {
    "name": "ipython",
    "version": 3
   },
   "file_extension": ".py",
   "mimetype": "text/x-python",
   "name": "python",
   "nbconvert_exporter": "python",
   "pygments_lexer": "ipython3",
   "version": "3.6.2"
  }
 },
 "nbformat": 4,
 "nbformat_minor": 2
}
