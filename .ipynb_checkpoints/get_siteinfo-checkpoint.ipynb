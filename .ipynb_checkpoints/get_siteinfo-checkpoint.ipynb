{
 "cells": [
  {
   "cell_type": "code",
   "execution_count": 1,
   "metadata": {},
   "outputs": [],
   "source": [
    "import sys\n",
    "import csv\n",
    "import time\n",
    "import re\n",
    "from urllib.request import urlopen\n",
    "import json\n",
    "from pandas.io.json import json_normalize\n",
    "import pandas as pd, numpy as np\n",
    "import pickle \n",
    "import pprint\n",
    "import requests\n",
    "from datetime import date, datetime\n",
    "from random import *\n",
    "from selenium import webdriver\n",
    "from selenium.webdriver.chrome.options import Options\n",
    "from selenium.webdriver.common.action_chains import ActionChains\n",
    "from selenium.webdriver.common.keys import Keys \n",
    "from selenium.common.exceptions import TimeoutException\n",
    "from selenium.webdriver.support.ui import WebDriverWait\n",
    "from selenium.webdriver.support import expected_conditions as EC\n",
    "from selenium.webdriver.common.by import By\n",
    "from bs4 import BeautifulSoup as bs\n",
    "import os\n",
    "import datetime\n",
    "import shutil\n",
    "import glob"
   ]
  },
  {
   "cell_type": "code",
   "execution_count": 2,
   "metadata": {},
   "outputs": [],
   "source": [
    "pp = pprint.PrettyPrinter(indent=4)\n",
    "\n",
    "options = webdriver.ChromeOptions()\n",
    "options.add_argument('--headless')\n",
    "options.add_argument('window-size=1000x500')\n",
    "options.add_argument(\"start-maximized\")\n",
    "options.add_argument(\"disable-infobars\")\n",
    "options.add_argument(\"--disable-extensions\")\n",
    "options.add_argument(\"disable-gpu\")\n",
    "\n"
   ]
  },
  {
   "cell_type": "code",
   "execution_count": 9,
   "metadata": {},
   "outputs": [],
   "source": [
    "chrome_path = '/usr/local/bin/chromedriver'\n",
    "driver = webdriver.Chrome(chrome_path, options=options)\n",
    "\n",
    "url = 'https://www.gocamping.or.kr/bsite/camp/info/list.do?pageUnit=2500&searchKrwd=&listOrdrTrget=last_updusr_pnttm&pageIndex=1'\n",
    "driver.get(url) \n",
    "\n",
    "time.sleep(10)\n",
    "\n",
    "source = driver.page_source \n",
    "data = bs(source, 'html.parser')"
   ]
  },
  {
   "cell_type": "code",
   "execution_count": 72,
   "metadata": {},
   "outputs": [],
   "source": [
    "cont = data.findAll(\"div\",{\"class\":\"camp_cont\"})"
   ]
  },
  {
   "cell_type": "code",
   "execution_count": 160,
   "metadata": {},
   "outputs": [
    {
     "data": {
      "text/plain": [
       "<div class=\"camp_cont\">\n",
       "<p class=\"item_group\">\n",
       "<span class=\"item_t01\">관광사업자 등록업체</span>\n",
       "<span class=\"item_t02\">리뷰수 0</span> <span class=\"item_t03\">조회수 4991</span> <span class=\"item_t04\">추천수 1</span>\n",
       "</p>\n",
       "<h2 class=\"camp_tt\">\n",
       "<a href=\"/bsite/camp/info/read.do?c_no=2466&amp;viewType=read01&amp;listOrdrTrget=last_updusr_pnttm\">[울산시 울주군] 아트앤오토캠핑장</a>\n",
       "</h2>\n",
       "<span class=\"camp_stt\">울창한 나무 그늘이 있어 시원하고 행복한 캠핑장. </span> <span class=\"camp_txt\"> <a href=\"/bsite/camp/info/read.do?c_no=2466&amp;viewType=read01&amp;listOrdrTrget=last_updusr_pnttm\"><span class=\"skip\">캠핑장정보 더보기</span> 아트앤오토캠핑장(구 원조캠핑장)은 울산 울주군 배내골에 위치하고 있으며, 평상과 야영장이 함께 있는 자연 친화적인 캠...</a>\n",
       "</span>\n",
       "<ul class=\"camp_info01\">\n",
       "<li class=\"addr\">울산광역시 울주군 상북면 이천리  700 </li>\n",
       "<li class=\"call_num\">010-3710-2060</li>\n",
       "</ul>\n",
       "<!--아이콘모음-->\n",
       "<div class=\"camp_item_box\">\n",
       "<ul>\n",
       "<li><i class=\"ico_volt\"><span>전기</span></i></li>\n",
       "<li><i class=\"ico_wifi\"><span>와이파이</span></i></li>\n",
       "<li><i class=\"ico_wood\"><span>장작판매</span></i></li>\n",
       "<li><i class=\"ico_hotwater\"><span>온수</span></i></li>\n",
       "</ul>\n",
       "</div>\n",
       "<!--//아이콘모음-->\n",
       "</div>"
      ]
     },
     "execution_count": 160,
     "metadata": {},
     "output_type": "execute_result"
    }
   ],
   "source": [
    "cont[0]"
   ]
  },
  {
   "cell_type": "code",
   "execution_count": 164,
   "metadata": {},
   "outputs": [],
   "source": [
    "cols = ['name','url','addr']\n",
    "df = pd.DataFrame(columns=cols)\n",
    "prefix = 'https://www.gocamping.or.kr/'\n",
    "for i in range(len(cont)):\n",
    "    name = cont[i].h2.a.get_text().split(\"]\")[1]\n",
    "    url_t = cont[i].h2.a['href'].split(\"&\")[0]\n",
    "    url = ''.join([prefix,url_t])\n",
    "    addr = cont[i].ul(class_=\"addr\")[0].get_text()\n",
    "    \n",
    "    info = [name, url, addr]\n",
    "    dict1 = dict(zip(cols, info))\n",
    "    df = df.append(dict1, ignore_index=True)\n",
    "df['hashtag'] = df.name.str.replace(' ','')"
   ]
  },
  {
   "cell_type": "code",
   "execution_count": 165,
   "metadata": {},
   "outputs": [],
   "source": [
    "df['name'] = df.name.str.strip()\n",
    "df['hashtag'] = df.name.str.replace(' ','')"
   ]
  },
  {
   "cell_type": "code",
   "execution_count": 166,
   "metadata": {},
   "outputs": [
    {
     "data": {
      "text/html": [
       "<div>\n",
       "<style>\n",
       "    .dataframe thead tr:only-child th {\n",
       "        text-align: right;\n",
       "    }\n",
       "\n",
       "    .dataframe thead th {\n",
       "        text-align: left;\n",
       "    }\n",
       "\n",
       "    .dataframe tbody tr th {\n",
       "        vertical-align: top;\n",
       "    }\n",
       "</style>\n",
       "<table border=\"1\" class=\"dataframe\">\n",
       "  <thead>\n",
       "    <tr style=\"text-align: right;\">\n",
       "      <th></th>\n",
       "      <th>name</th>\n",
       "      <th>url</th>\n",
       "      <th>addr</th>\n",
       "      <th>hashtag</th>\n",
       "    </tr>\n",
       "  </thead>\n",
       "  <tbody>\n",
       "    <tr>\n",
       "      <th>0</th>\n",
       "      <td>아트앤오토캠핑장</td>\n",
       "      <td>https://www.gocamping.or.kr//bsite/camp/info/r...</td>\n",
       "      <td>울산광역시 울주군 상북면 이천리  700</td>\n",
       "      <td>아트앤오토캠핑장</td>\n",
       "    </tr>\n",
       "    <tr>\n",
       "      <th>1</th>\n",
       "      <td>지구캠프</td>\n",
       "      <td>https://www.gocamping.or.kr//bsite/camp/info/r...</td>\n",
       "      <td>강원 영월군 무릉도원면 무릉법흥로 1104</td>\n",
       "      <td>지구캠프</td>\n",
       "    </tr>\n",
       "    <tr>\n",
       "      <th>2</th>\n",
       "      <td>힐링스토리</td>\n",
       "      <td>https://www.gocamping.or.kr//bsite/camp/info/r...</td>\n",
       "      <td>강원 횡성군 서원면 금대1길 24-68 힐링스토리</td>\n",
       "      <td>힐링스토리</td>\n",
       "    </tr>\n",
       "    <tr>\n",
       "      <th>3</th>\n",
       "      <td>밀양댐오토캠핑장</td>\n",
       "      <td>https://www.gocamping.or.kr//bsite/camp/info/r...</td>\n",
       "      <td>경상남도 밀양시 단장면 고례리  1512-1번지</td>\n",
       "      <td>밀양댐오토캠핑장</td>\n",
       "    </tr>\n",
       "    <tr>\n",
       "      <th>4</th>\n",
       "      <td>별볼일 있는 야영장</td>\n",
       "      <td>https://www.gocamping.or.kr//bsite/camp/info/r...</td>\n",
       "      <td>전라남도 보성군 문덕면 양동리 942</td>\n",
       "      <td>별볼일있는야영장</td>\n",
       "    </tr>\n",
       "  </tbody>\n",
       "</table>\n",
       "</div>"
      ],
      "text/plain": [
       "         name                                                url  \\\n",
       "0    아트앤오토캠핑장  https://www.gocamping.or.kr//bsite/camp/info/r...   \n",
       "1        지구캠프  https://www.gocamping.or.kr//bsite/camp/info/r...   \n",
       "2       힐링스토리  https://www.gocamping.or.kr//bsite/camp/info/r...   \n",
       "3    밀양댐오토캠핑장  https://www.gocamping.or.kr//bsite/camp/info/r...   \n",
       "4  별볼일 있는 야영장  https://www.gocamping.or.kr//bsite/camp/info/r...   \n",
       "\n",
       "                          addr   hashtag  \n",
       "0      울산광역시 울주군 상북면 이천리  700   아트앤오토캠핑장  \n",
       "1     강원 영월군 무릉도원면 무릉법흥로 1104       지구캠프  \n",
       "2  강원 횡성군 서원면 금대1길 24-68 힐링스토리     힐링스토리  \n",
       "3  경상남도 밀양시 단장면 고례리  1512-1번지   밀양댐오토캠핑장  \n",
       "4        전라남도 보성군 문덕면 양동리 942   별볼일있는야영장  "
      ]
     },
     "execution_count": 166,
     "metadata": {},
     "output_type": "execute_result"
    }
   ],
   "source": [
    "df.head()"
   ]
  },
  {
   "cell_type": "code",
   "execution_count": null,
   "metadata": {},
   "outputs": [],
   "source": []
  }
 ],
 "metadata": {
  "kernelspec": {
   "display_name": "Python 3",
   "language": "python",
   "name": "python3"
  },
  "language_info": {
   "codemirror_mode": {
    "name": "ipython",
    "version": 3
   },
   "file_extension": ".py",
   "mimetype": "text/x-python",
   "name": "python",
   "nbconvert_exporter": "python",
   "pygments_lexer": "ipython3",
   "version": "3.6.2"
  }
 },
 "nbformat": 4,
 "nbformat_minor": 2
}
